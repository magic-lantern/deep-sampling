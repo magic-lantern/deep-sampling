{
 "cells": [
  {
   "cell_type": "markdown",
   "metadata": {},
   "source": [
    "# Annotation Converter\n",
    "\n",
    "This notebook converts the original XML file format into plain text with markup inserted in it's proper place surrounded with tags delimeted with '{{' and '}}\n",
    "\n",
    "**To Do:**\n"
   ]
  },
  {
   "cell_type": "code",
   "execution_count": 1,
   "metadata": {},
   "outputs": [],
   "source": [
    "import xml.etree.ElementTree as ET\n",
    "import os\n",
    "from pathlib import Path\n",
    "from html import unescape"
   ]
  },
  {
   "cell_type": "code",
   "execution_count": 2,
   "metadata": {},
   "outputs": [
    {
     "data": {
      "text/plain": [
       "'/Users/seth/OneDrive - The University of Colorado Denver/Documents/Development/n2c2/2014 De-identification/training-PHI-Gold-Set1'"
      ]
     },
     "execution_count": 2,
     "metadata": {},
     "output_type": "execute_result"
    }
   ],
   "source": [
    "os.getcwd()"
   ]
  },
  {
   "cell_type": "code",
   "execution_count": 3,
   "metadata": {},
   "outputs": [],
   "source": [
    "input_path = Path('../training-PHI-Gold-Set1')\n",
    "output_path = Path('../data/converted')"
   ]
  },
  {
   "cell_type": "code",
   "execution_count": 4,
   "metadata": {},
   "outputs": [],
   "source": [
    "# remove html encoded items and get rid of angled quotes\n",
    "# it appears some files had html escaping run more than once, so have to unescape twice\n",
    "def unencode(note):\n",
    "    return unescape(unescape(note.replace('&#8220;', '\"').replace('&#8221;', '\"')))"
   ]
  },
  {
   "cell_type": "code",
   "execution_count": 5,
   "metadata": {},
   "outputs": [],
   "source": [
    "def insert_tags(text, tag, tag_type, start, end):\n",
    "    TAG_START = '{{' # double curly braces do not appear in original text\n",
    "    TAG_END   = '}}'\n",
    "    LABEL_END = '/'\n",
    "    TAG_SEPARATOR = ':'\n",
    "    if tag == tag_type:\n",
    "        combined = tag\n",
    "    else:\n",
    "        combined = tag + TAG_SEPARATOR + tag_type\n",
    "    offset = len(TAG_START + combined + TAG_END + TAG_START + LABEL_END + combined + TAG_END)\n",
    "    return ((text[:int(start)] + \n",
    "            TAG_START + combined + TAG_END +\n",
    "            text[int(start):int(end)] + \n",
    "            TAG_START + LABEL_END + combined + TAG_END +\n",
    "            text[int(end):]), offset)"
   ]
  },
  {
   "cell_type": "code",
   "execution_count": 6,
   "metadata": {},
   "outputs": [],
   "source": [
    "input_path = Path('.')\n",
    "output_path = Path('./converted')\n",
    "\n",
    "if not os.path.exists(output_path):\n",
    "    os.makedirs(output_path)\n",
    "\n",
    "for file in input_path.glob('*.xml'):\n",
    "    with open(file) as f:\n",
    "        tree = ET.parse(f)\n",
    "        root = tree.getroot()\n",
    "        note = root[0].text\n",
    "        offset = 0\n",
    "        for c in root.iter('TAGS'):\n",
    "            for child in c:\n",
    "                note, new_offset = insert_tags(note,\n",
    "                                                   child.tag,\n",
    "                                                   child.attrib['TYPE'],\n",
    "                                                   int(child.attrib['start']) + offset,\n",
    "                                                   int(child.attrib['end']) + offset)\n",
    "                offset += new_offset\n",
    "        note = unencode(note)\n",
    "        \n",
    "        new_file = os.path.splitext(file)[0] + '.txt'\n",
    "        with open(output_path / new_file, 'w') as o:\n",
    "            o.write(note)"
   ]
  },
  {
   "cell_type": "markdown",
   "metadata": {},
   "source": [
    "## Rest of notebook is just looking at 1 single file and checking processing steps"
   ]
  },
  {
   "cell_type": "code",
   "execution_count": 7,
   "metadata": {},
   "outputs": [
    {
     "name": "stdout",
     "output_type": "stream",
     "text": [
      "<Element 'deIdi2b2' at 0x108ca9a48>\n"
     ]
    }
   ],
   "source": [
    "with open('220-01.xml') as f:\n",
    "    tree = ET.parse(f)\n",
    "    root = tree.getroot()\n",
    "    print(root)"
   ]
  },
  {
   "cell_type": "code",
   "execution_count": 8,
   "metadata": {},
   "outputs": [
    {
     "data": {
      "text/plain": [
       "'deIdi2b2'"
      ]
     },
     "execution_count": 8,
     "metadata": {},
     "output_type": "execute_result"
    }
   ],
   "source": [
    "root.tag"
   ]
  },
  {
   "cell_type": "code",
   "execution_count": 9,
   "metadata": {},
   "outputs": [
    {
     "data": {
      "text/plain": [
       "{}"
      ]
     },
     "execution_count": 9,
     "metadata": {},
     "output_type": "execute_result"
    }
   ],
   "source": [
    "root.attrib"
   ]
  },
  {
   "cell_type": "code",
   "execution_count": 10,
   "metadata": {},
   "outputs": [
    {
     "name": "stdout",
     "output_type": "stream",
     "text": [
      "TEXT {}\n",
      "<class 'xml.etree.ElementTree.Element'>\n",
      "TAGS {}\n",
      "<class 'xml.etree.ElementTree.Element'>\n"
     ]
    }
   ],
   "source": [
    "for child in root:\n",
    "    print(child.tag, child.attrib)\n",
    "    print(type(child))"
   ]
  },
  {
   "cell_type": "code",
   "execution_count": 11,
   "metadata": {},
   "outputs": [],
   "source": [
    "note = root[0].text"
   ]
  },
  {
   "cell_type": "code",
   "execution_count": 12,
   "metadata": {},
   "outputs": [
    {
     "name": "stdout",
     "output_type": "stream",
     "text": [
      "DATE {'id': 'P0', 'start': '16', 'end': '26', 'text': '2067-05-03', 'TYPE': 'DATE', 'comment': ''}\n",
      "AGE {'id': 'P1', 'start': '50', 'end': '52', 'text': '55', 'TYPE': 'AGE', 'comment': ''}\n",
      "NAME {'id': 'P2', 'start': '290', 'end': '296', 'text': 'Oakley', 'TYPE': 'DOCTOR', 'comment': ''}\n",
      "DATE {'id': 'P3', 'start': '297', 'end': '303', 'text': '4/5/67', 'TYPE': 'DATE', 'comment': ''}\n",
      "LOCATION {'id': 'P4', 'start': '343', 'end': '353', 'text': 'Clarkfield', 'TYPE': 'HOSPITAL', 'comment': ''}\n",
      "DATE {'id': 'P5', 'start': '363', 'end': '367', 'text': '7/67', 'TYPE': 'DATE', 'comment': ''}\n",
      "AGE {'id': 'P6', 'start': '637', 'end': '639', 'text': '37', 'TYPE': 'AGE', 'comment': ''}\n",
      "AGE {'id': 'P7', 'start': '694', 'end': '696', 'text': '66', 'TYPE': 'AGE', 'comment': ''}\n",
      "DATE {'id': 'P8', 'start': '755', 'end': '759', 'text': '2062', 'TYPE': 'DATE', 'comment': ''}\n",
      "DATE {'id': 'P9', 'start': '899', 'end': '903', 'text': '4/63', 'TYPE': 'DATE', 'comment': ''}\n",
      "DATE {'id': 'P10', 'start': '940', 'end': '944', 'text': '2065', 'TYPE': 'DATE', 'comment': ''}\n",
      "DATE {'id': 'P11', 'start': '1028', 'end': '1032', 'text': '2/67', 'TYPE': 'DATE', 'comment': ''}\n",
      "NAME {'id': 'P12', 'start': '1037', 'end': '1043', 'text': 'Oakley', 'TYPE': 'DOCTOR', 'comment': ''}\n",
      "DATE {'id': 'P13', 'start': '1071', 'end': '1075', 'text': '2065', 'TYPE': 'DATE', 'comment': ''}\n",
      "NAME {'id': 'P14', 'start': '1974', 'end': '1980', 'text': 'Oakley', 'TYPE': 'DOCTOR', 'comment': ''}\n",
      "DATE {'id': 'P15', 'start': '2284', 'end': '2288', 'text': '3/67', 'TYPE': 'DATE', 'comment': ''}\n"
     ]
    }
   ],
   "source": [
    "for c in root.iter('TAGS'):\n",
    "    for child in c:\n",
    "        print(child.tag, child.attrib)"
   ]
  },
  {
   "cell_type": "code",
   "execution_count": 13,
   "metadata": {},
   "outputs": [],
   "source": [
    "tag_start = '<'\n",
    "tag_end = '>'\n",
    "label_end = '/'"
   ]
  },
  {
   "cell_type": "code",
   "execution_count": 14,
   "metadata": {},
   "outputs": [
    {
     "data": {
      "text/plain": [
       "\"\\n\\n\\nRecord date: {{DATE}}2067-05-03{{/DATE}}\\n\\nNarrative History\\n\\n   {{AGE}}55{{/AGE}} yo woman who presents for f/u \\n\\n   \\n\\n   Seen in Cardiac rehab locally last week and BP 170/80.  They called us and we increased her HCTZ to 25 mg from 12.5 mg.  States her BP's were fine there since - 130-140/70-80.\\n\\n   \\n\\n   \\n\\n   Saw Dr {{NAME:DOCTOR}}Oakley{{/NAME:DOCTOR}} {{DATE}}4/5/67{{/DATE}} - she was happy with results of ETT at {{LOCATION:HOSPITAL}}Clarkfield{{/LOCATION:HOSPITAL}}.  To f/u {{DATE}}7/67{{/DATE}}.  No CP's since last admit.\\n\\n   \\n\\n   Back to work and starting to walk.  No wt loss and discouraged by this, but just starting to exercise.\\n\\n   \\n\\n   No smoking for 3 months now!\\n\\n   \\n\\n   Still with hotflashes, wakes her up at night.\\n\\nProblems\\n\\n      FH breast cancer   {{AGE}}37{{/AGE}} yo s \\n\\n\\n\\n      FH myocardial infarction   mother died {{AGE}}66{{/AGE}} yo \\n\\n\\n\\n      Hypertension\\n\\n\\n\\n      Uterine fibroids   u/s {{DATE}}2062{{/DATE}} \\n\\n\\n\\n      Smoking\\n\\n\\n\\n      hyperlipidemia   CRF mild chol, cigs, HTN, Fhx and known hx CAD in pt. \\n\\n\\n\\n      borderline diabetes mellitus   {{DATE}}4/63{{/DATE}} 125 , follow hgbaic \\n\\n\\n\\n      VPB   {{DATE}}2065{{/DATE}} - ETT showed freq PVC \\n\\n\\n\\n      coronary artery disease   s/p ant SEMI + stent LAD {{DATE}}2/67{{/DATE}}, Dr {{NAME:DOCTOR}}Oakley{{/NAME:DOCTOR}} \\n\\n\\n\\n      thyroid nodule   {{DATE}}2065{{/DATE}}, hot, follow TSH. \\n\\nMedications\\n\\n      NORVASC (AMLODIPINE)     5MG  1 Tablet(s) PO QD  \\n\\n\\n\\n      PLAVIX (CLOPIDOGREL)   75 MG     PO QD  \\n\\n\\n\\n      ATENOLOL     50MG  1 Tablet(s) PO QD  \\n\\n\\n\\n      ASA (ACETYLSALICYLIC ACID)     325MG  1 Tablet(s) PO QD  \\n\\n\\n\\n      ZESTRIL (LISINOPRIL)     40MG  1 Tablet(s) PO QD   \\n\\n\\n\\n      LIPITOR (ATORVASTATIN)     10MG  1 Tablet(s) PO QD  \\n\\n\\n\\n      HCTZ (HYDROCHLOROTHIAZIDE)     25MG  1 Tablet(s) PO QD   \\n\\n\\n\\n      NITROGLYCERIN 1/150 (0.4 MG)   1 TAB     SL x1  PRN prn CP \\n\\nAllergies\\n\\n      CECLOR (CEFACLOR)   Rash   \\n\\nVital Signs\\n\\n      BLOOD PRESSURE-SITTING   150/70 \\n\\n         repeat 145/80   HR 60 reg  WT  202 lbs\\n\\nPhysical Exam\\n\\n   Looks well.  Lungs clear,  CVS  RRRs1s2, Ext - no edema\\t\\n\\nAssessment and Plan\\n\\n   1. H/M - Pe next appt in few months.  Overdue for mammo - will need to stress this.\\n\\n   2.  CAD - cont with cardiac rehab, exercise, Dr {{NAME:DOCTOR}}Oakley{{/NAME:DOCTOR}}, but doing well.\\n\\n   3.  BP - better on increased HCTZ.  Check labs next visit, good K recently and on ACEI.\\n\\n   4.  Cigs - great!\\n\\n   5. Hot flashes - doesn't want to try any other meds - will try to put up with it.\\n\\n   6. Hot thyroid nodule - recheck TSH next visit.\\n\\n   7. Borderline glc - ok hgba1c {{DATE}}3/67{{/DATE}}.\\n\\n   8.  Chol - ok, fasting on next visit.\\n\\n   \\n\\n   \\n\\n\\n\\n\\n\\n\""
      ]
     },
     "execution_count": 14,
     "metadata": {},
     "output_type": "execute_result"
    }
   ],
   "source": [
    "new_note = root[0].text\n",
    "offset = 0\n",
    "for c in root.iter('TAGS'):\n",
    "    for child in c:\n",
    "        # print(child.attrib['start'], child.attrib['end'], child.tag, child.attrib['TYPE'])\n",
    "        new_note, new_offset = insert_tags(new_note,\n",
    "                                           child.tag,\n",
    "                                           child.attrib['TYPE'],\n",
    "                                           int(child.attrib['start']) + offset,\n",
    "                                           int(child.attrib['end']) + offset)\n",
    "        offset += new_offset\n",
    "new_note"
   ]
  },
  {
   "cell_type": "code",
   "execution_count": 15,
   "metadata": {},
   "outputs": [
    {
     "data": {
      "text/plain": [
       "2284"
      ]
     },
     "execution_count": 15,
     "metadata": {},
     "output_type": "execute_result"
    }
   ],
   "source": [
    "int(child.attrib['start'])"
   ]
  },
  {
   "cell_type": "code",
   "execution_count": 16,
   "metadata": {},
   "outputs": [
    {
     "data": {
      "text/plain": [
       "\"\\n\\n\\nRecord date: 2067-05-03\\n\\nNarrative History\\n\\n   55 yo woman who presents for f/u \\n\\n   \\n\\n   Seen in Cardiac rehab locally last week and BP 170/80.  They called us and we increased her HCTZ to 25 mg from 12.5 mg.  States her BP's were fine there since - 130-140/70-80.\\n\\n   \\n\\n   \\n\\n   Saw Dr Oakley 4/5/67 - she was happy with results of ETT at Clarkfield.  To f/u 7/67.  No CP's since last admit.\\n\\n   \\n\\n   Back to work and starting to walk.  No wt loss and discouraged by this, but just starting to exercise.\\n\\n   \\n\\n   No smoking for 3 months now!\\n\\n   \\n\\n   Still with hotflashes, wakes her up at night.\\n\\nProblems\\n\\n      FH breast cancer   37 yo s \\n\\n\\n\\n      FH myocardial infarction   mother died 66 yo \\n\\n\\n\\n      Hypertension\\n\\n\\n\\n      Uterine fibroids   u/s 2062 \\n\\n\\n\\n      Smoking\\n\\n\\n\\n      hyperlipidemia   CRF mild chol, cigs, HTN, Fhx and known hx CAD in pt. \\n\\n\\n\\n      borderline diabetes mellitus   4/63 125 , follow hgbaic \\n\\n\\n\\n      VPB   2065 - ETT showed freq PVC \\n\\n\\n\\n      coronary artery disease   s/p ant SEMI + stent LAD 2/67, Dr Oakley \\n\\n\\n\\n      thyroid nodule   2065, hot, follow TSH. \\n\\nMedications\\n\\n      NORVASC (AMLODIPINE)     5MG  1 Tablet(s) PO QD  \\n\\n\\n\\n      PLAVIX (CLOPIDOGREL)   75 MG     PO QD  \\n\\n\\n\\n      ATENOLOL     50MG  1 Tablet(s) PO QD  \\n\\n\\n\\n      ASA (ACETYLSALICYLIC ACID)     325MG  1 Tablet(s) PO QD  \\n\\n\\n\\n      ZESTRIL (LISINOPRIL)     40MG  1 Tablet(s) PO QD   \\n\\n\\n\\n      LIPITOR (ATORVASTATIN)     10MG  1 Tablet(s) PO QD  \\n\\n\\n\\n      HCTZ (HYDROCHLOROTHIAZIDE)     25MG  1 Tablet(s) PO QD   \\n\\n\\n\\n      NITROGLYCERIN 1/150 (0.4 MG)   1 TAB     SL x1  PRN prn CP \\n\\nAllergies\\n\\n      CECLOR (CEFACLOR)   Rash   \\n\\nVital Signs\\n\\n      BLOOD PRESSURE-SITTING   150/70 \\n\\n         repeat 145/80   HR 60 reg  WT  202 lbs\\n\\nPhysical Exam\\n\\n   Looks well.  Lungs clear,  CVS  RRRs1s2, Ext - no edema\\t\\n\\nAssessment and Plan\\n\\n   1. H/M - Pe next appt in few months.  Overdue for mammo - will need to stress this.\\n\\n   2.  CAD - cont with cardiac rehab, exercise, Dr Oakley, but doing well.\\n\\n   3.  BP - better on increased HCTZ.  Check labs next visit, good K recently and on ACEI.\\n\\n   4.  Cigs - great!\\n\\n   5. Hot flashes - doesn't want to try any other meds - will try to put up with it.\\n\\n   6. Hot thyroid nodule - recheck TSH next visit.\\n\\n   7. Borderline glc - ok hgba1c 3/67.\\n\\n   8.  Chol - ok, fasting on next visit.\\n\\n   \\n\\n   \\n\\n\\n\\n\\n\\n\""
      ]
     },
     "execution_count": 16,
     "metadata": {},
     "output_type": "execute_result"
    }
   ],
   "source": [
    "note"
   ]
  },
  {
   "cell_type": "code",
   "execution_count": null,
   "metadata": {},
   "outputs": [],
   "source": []
  }
 ],
 "metadata": {
  "kernelspec": {
   "display_name": "Python 3",
   "language": "python",
   "name": "python3"
  },
  "language_info": {
   "codemirror_mode": {
    "name": "ipython",
    "version": 3
   },
   "file_extension": ".py",
   "mimetype": "text/x-python",
   "name": "python",
   "nbconvert_exporter": "python",
   "pygments_lexer": "ipython3",
   "version": "3.6.9"
  }
 },
 "nbformat": 4,
 "nbformat_minor": 4
}
